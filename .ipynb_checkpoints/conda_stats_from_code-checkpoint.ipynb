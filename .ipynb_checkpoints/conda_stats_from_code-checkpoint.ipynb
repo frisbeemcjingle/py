{
 "cells": [
  {
   "cell_type": "code",
   "execution_count": 1,
   "id": "dee2a24b-77d9-4fce-bd1a-3f4e22cec9d1",
   "metadata": {},
   "outputs": [],
   "source": [
    "import pandas as pd\n",
    "import numpy as np"
   ]
  },
  {
   "cell_type": "code",
   "execution_count": 2,
   "id": "275b1364-b716-4e32-a7ed-a51ffe9e0fc6",
   "metadata": {},
   "outputs": [
    {
     "name": "stdout",
     "output_type": "stream",
     "text": [
      "# packages in environment at /home/bill/miniconda3/envs/stats:\n",
      "#\n",
      "# Name                     Version          Build                 Channel\n",
      "_libgcc_mutex              0.1              conda_forge           conda-forge\n",
      "_openmp_mutex              4.5              2_gnu                 conda-forge\n",
      "asttokens                  3.0.0            pyhd8ed1ab_1          conda-forge\n",
      "bzip2                      1.0.8            h4bc722e_7            conda-forge\n",
      "ca-certificates            2025.6.15        hbd8a1cb_0            conda-forge\n",
      "comm                       0.2.2            pyhd8ed1ab_1          conda-forge\n",
      "debugpy                    1.8.14           py313h46c70d0_0       conda-forge\n",
      "decorator                  5.2.1            pyhd8ed1ab_0          conda-forge\n",
      "exceptiongroup             1.3.0            pyhd8ed1ab_0          conda-forge\n",
      "executing                  2.2.0            pyhd8ed1ab_0          conda-forge\n",
      "importlib-metadata         8.7.0            pyhe01879c_1          conda-forge\n",
      "ipykernel                  6.29.5           pyh3099207_0          conda-forge\n",
      "ipython                    9.4.0            pyhfa0c392_0          conda-forge\n",
      "ipython_pygments_lexers    1.1.1            pyhd8ed1ab_0          conda-forge\n",
      "jedi                       0.19.2           pyhd8ed1ab_1          conda-forge\n",
      "jupyter_client             8.6.3            pyhd8ed1ab_1          conda-forge\n",
      "jupyter_core               5.8.1            pyh31011fe_0          conda-forge\n",
      "keyutils                   1.6.1            h166bdaf_0            conda-forge\n",
      "krb5                       1.21.3           h659f571_0            conda-forge\n",
      "ld_impl_linux-64           2.44             h1423503_0            conda-forge\n",
      "libblas                    3.9.0            32_h59b9bed_openblas  conda-forge\n",
      "libcblas                   3.9.0            32_he106b2a_openblas  conda-forge\n",
      "libedit                    3.1.20250104     pl5321h7949ede_0      conda-forge\n",
      "libexpat                   2.7.0            h5888daf_0            conda-forge\n",
      "libffi                     3.4.6            h2dba641_1            conda-forge\n",
      "libgcc                     15.1.0           h767d61c_3            conda-forge\n",
      "libgcc-ng                  15.1.0           h69a702a_3            conda-forge\n",
      "libgfortran                15.1.0           h69a702a_3            conda-forge\n",
      "libgfortran5               15.1.0           hcea5267_3            conda-forge\n",
      "libgomp                    15.1.0           h767d61c_3            conda-forge\n",
      "liblapack                  3.9.0            32_h7ac8fdf_openblas  conda-forge\n",
      "liblzma                    5.8.1            hb9d3cd8_2            conda-forge\n",
      "libmpdec                   4.0.0            hb9d3cd8_0            conda-forge\n",
      "libopenblas                0.3.30           pthreads_h94d23a6_0   conda-forge\n",
      "libsodium                  1.0.20           h4ab18f5_0            conda-forge\n",
      "libsqlite                  3.50.2           h6cd9bfd_0            conda-forge\n",
      "libstdcxx                  15.1.0           h8f9b012_3            conda-forge\n",
      "libstdcxx-ng               15.1.0           h4852527_3            conda-forge\n",
      "libuuid                    2.38.1           h0b41bf4_0            conda-forge\n",
      "libzlib                    1.3.1            hb9d3cd8_2            conda-forge\n",
      "matplotlib-inline          0.1.7            pyhd8ed1ab_1          conda-forge\n",
      "ncurses                    6.5              h2d0b736_3            conda-forge\n",
      "nest-asyncio               1.6.0            pyhd8ed1ab_1          conda-forge\n",
      "numpy                      2.3.1            py313h17eae1a_0       conda-forge\n",
      "openssl                    3.5.1            h7b32b05_0            conda-forge\n",
      "packaging                  25.0             pyh29332c3_1          conda-forge\n",
      "pandas                     2.3.0            py313ha87cce1_0       conda-forge\n",
      "parso                      0.8.4            pyhd8ed1ab_1          conda-forge\n",
      "pexpect                    4.9.0            pyhd8ed1ab_1          conda-forge\n",
      "pickleshare                0.7.5            pyhd8ed1ab_1004       conda-forge\n",
      "pip                        25.1.1           pyh145f28c_0          conda-forge\n",
      "platformdirs               4.3.8            pyhe01879c_0          conda-forge\n",
      "prompt-toolkit             3.0.51           pyha770c72_0          conda-forge\n",
      "psutil                     7.0.0            py313h536fd9c_0       conda-forge\n",
      "ptyprocess                 0.7.0            pyhd8ed1ab_1          conda-forge\n",
      "pure_eval                  0.2.3            pyhd8ed1ab_1          conda-forge\n",
      "pygments                   2.19.2           pyhd8ed1ab_0          conda-forge\n",
      "python                     3.13.5           hec9711d_102_cp313    conda-forge\n",
      "python-dateutil            2.9.0.post0      pyhe01879c_2          conda-forge\n",
      "python-tzdata              2025.2           pyhd8ed1ab_0          conda-forge\n",
      "python_abi                 3.13             7_cp313               conda-forge\n",
      "pytz                       2025.2           pyhd8ed1ab_0          conda-forge\n",
      "pyzmq                      27.0.0           py313h8e95178_0       conda-forge\n",
      "readline                   8.2              h8c095d6_2            conda-forge\n",
      "six                        1.17.0           pyhd8ed1ab_0          conda-forge\n",
      "stack_data                 0.6.3            pyhd8ed1ab_1          conda-forge\n",
      "tk                         8.6.13           noxft_hd72426e_102    conda-forge\n",
      "tornado                    6.5.1            py313h536fd9c_0       conda-forge\n",
      "traitlets                  5.14.3           pyhd8ed1ab_1          conda-forge\n",
      "typing_extensions          4.14.1           pyhe01879c_0          conda-forge\n",
      "tzdata                     2025b            h78e105d_0            conda-forge\n",
      "wcwidth                    0.2.13           pyhd8ed1ab_1          conda-forge\n",
      "zeromq                     4.3.5            h3b0a872_7            conda-forge\n",
      "zipp                       3.23.0           pyhd8ed1ab_0          conda-forge\n"
     ]
    }
   ],
   "source": [
    "!conda list"
   ]
  },
  {
   "cell_type": "code",
   "execution_count": null,
   "id": "506b53be-e172-429b-9c5a-1d0340645415",
   "metadata": {},
   "outputs": [],
   "source": []
  }
 ],
 "metadata": {
  "kernelspec": {
   "display_name": "Python [conda env:stats]",
   "language": "python",
   "name": "conda-env-stats-py"
  },
  "language_info": {
   "codemirror_mode": {
    "name": "ipython",
    "version": 3
   },
   "file_extension": ".py",
   "mimetype": "text/x-python",
   "name": "python",
   "nbconvert_exporter": "python",
   "pygments_lexer": "ipython3",
   "version": "3.13.5"
  }
 },
 "nbformat": 4,
 "nbformat_minor": 5
}
